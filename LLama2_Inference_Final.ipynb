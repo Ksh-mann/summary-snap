{
  "nbformat": 4,
  "nbformat_minor": 0,
  "metadata": {
    "colab": {
      "provenance": []
    },
    "kernelspec": {
      "name": "python3",
      "display_name": "Python 3"
    },
    "language_info": {
      "name": "python"
    }
  },
  "cells": [
    {
      "cell_type": "code",
      "source": [
        "!pip install pyngrok flask"
      ],
      "metadata": {
        "colab": {
          "base_uri": "https://localhost:8080/"
        },
        "id": "Srsqcry1k85g",
        "outputId": "8130797a-4412-4ad4-c2b1-bd3e4242e8d8"
      },
      "execution_count": null,
      "outputs": [
        {
          "output_type": "stream",
          "name": "stdout",
          "text": [
            "Collecting pyngrok\n",
            "  Downloading pyngrok-7.1.6-py3-none-any.whl (22 kB)\n",
            "Requirement already satisfied: flask in /usr/local/lib/python3.10/dist-packages (2.2.5)\n",
            "Requirement already satisfied: PyYAML>=5.1 in /usr/local/lib/python3.10/dist-packages (from pyngrok) (6.0.1)\n",
            "Requirement already satisfied: Werkzeug>=2.2.2 in /usr/local/lib/python3.10/dist-packages (from flask) (3.0.2)\n",
            "Requirement already satisfied: Jinja2>=3.0 in /usr/local/lib/python3.10/dist-packages (from flask) (3.1.3)\n",
            "Requirement already satisfied: itsdangerous>=2.0 in /usr/local/lib/python3.10/dist-packages (from flask) (2.1.2)\n",
            "Requirement already satisfied: click>=8.0 in /usr/local/lib/python3.10/dist-packages (from flask) (8.1.7)\n",
            "Requirement already satisfied: MarkupSafe>=2.0 in /usr/local/lib/python3.10/dist-packages (from Jinja2>=3.0->flask) (2.1.5)\n",
            "Installing collected packages: pyngrok\n",
            "Successfully installed pyngrok-7.1.6\n"
          ]
        }
      ]
    },
    {
      "cell_type": "code",
      "execution_count": null,
      "metadata": {
        "id": "Jhx3YLbSkRR-"
      },
      "outputs": [],
      "source": [
        "from transformers import AutoModelForSeq2SeqLM, AutoTokenizer\n",
        "from pyngrok import ngrok\n",
        "import flask"
      ]
    }
    {
      "cell_type": "code",
      "source": [
        "ngrok_authtoken = \"2f6O02NelvdE00ue8YPN7D2v01T_5AkPvMpx6LZ1Lk4ASEi1N\""
      ],
      "metadata": {
        "id": "c4RRH2_NlLO5"
      },
      "execution_count": null,
      "outputs": []
    },
    {
      "cell_type": "code",
      "source": [
        "#!ngrok authtoken \"2f6O02NelvdE00ue8YPN7D2v01T_5AkPvMpx6LZ1Lk4ASEi1N\"\n",
        "!ngrok config add-authtoken 2f6O02NelvdE00ue8YPN7D2v01T_5AkPvMpx6LZ1Lk4ASEi1N"
      ],
      "metadata": {
        "colab": {
          "base_uri": "https://localhost:8080/"
        },
        "id": "ju-qrs9wzjxR",
        "outputId": "599d1c2a-6536-44bf-eba2-6456af5b73d4"
      },
      "execution_count": null,
      "outputs": [
        {
          "output_type": "stream",
          "name": "stdout",
          "text": [
            "Authtoken saved to configuration file: /root/.config/ngrok/ngrok.yml\n"
          ]
        }
      ]
    },
    {
      "cell_type": "code",
      "source": [
        "model_name = f\"huggingface/{MODEL_ID}\"\n",
        "tokenizer = AutoTokenizer.from_pretrained(model_name)\n",
        "model = AutoModelForSeq2SeqLM.from_pretrained(model_name)"
      ],
      "metadata": {
        "id": "9NxF6ScZlNUE"
      },
      "execution_count": null,
      "outputs": []
    },
    {
      "cell_type": "code",
      "source": [
        "def run_inference(prompt):\n",
        "    encoded_input = tokenizer(prompt, return_tensors=\"pt\")\n",
        "    output = model.generate(**encoded_input)\n",
        "    decoded_output = tokenizer.batch_decode(output, skip_special_tokens=True)[0]\n",
        "    return decoded_output"
      ],
      "metadata": {
        "id": "bJJFZB9ClPRG"
      },
      "execution_count": null,
      "outputs": []
    },
    {
      "cell_type": "code",
      "source": [
        "# Create Flask app\n",
        "app = flask.Flask(__name__)"
      ],
      "metadata": {
        "id": "TQwZwFSjlUA6"
      },
      "execution_count": null,
      "outputs": []
    },
    {
      "cell_type": "code",
      "source": [
        "@app.route('/inference', methods=['POST'])\n",
        "def inference():\n",
        "    prompt = flask.request.get_json()['prompt']\n",
        "    output = run_inference(prompt)\n",
        "    return flask.jsonify({'output': output})"
      ],
      "metadata": {
        "id": "9Kd7fkdWlUuV"
      },
      "execution_count": null,
      "outputs": []
    },
    {
      "cell_type": "code",
      "source": [
        "if __name__ == '__main__':\n",
        "    ngrok.set_auth_token(ngrok_authtoken)\n",
        "    public_url = ngrok.connect(5000).public_url\n",
        "    print(f'Ngrok tunnel opened at: {public_url}')\n",
        "    app.run()"
      ],
      "metadata": {
        "id": "nF5sl4rglW1k",
        "colab": {
          "base_uri": "https://localhost:8080/"
        },
        "outputId": "f6972bbb-0538-43d8-bfcc-f6e94ad9bd45"
      },
      "execution_count": null,
      "outputs": [
        {
          "output_type": "stream",
          "name": "stdout",
          "text": [
            "Ngrok tunnel opened at: https://4208-35-186-183-124.ngrok-free.app\n",
            " * Serving Flask app '__main__'\n",
            " * Debug mode: off\n"
          ]
        },
        {
          "output_type": "stream",
          "name": "stderr",
          "text": [
            "INFO:werkzeug:\u001b[31m\u001b[1mWARNING: This is a development server. Do not use it in a production deployment. Use a production WSGI server instead.\u001b[0m\n",
            " * Running on http://127.0.0.1:5000\n",
            "INFO:werkzeug:\u001b[33mPress CTRL+C to quit\u001b[0m\n",
            "WARNING:pyngrok.process.ngrok:t=2024-04-14T18:40:22+0000 lvl=warn msg=\"Stopping forwarder\" name=http-5000-ba713b74-f9de-49b2-a60e-1cf1256e331f acceptErr=\"failed to accept connection: Listener closed\"\n",
            "WARNING:pyngrok.process.ngrok:t=2024-04-14T18:40:22+0000 lvl=warn msg=\"Error restarting forwarder\" name=http-5000-ba713b74-f9de-49b2-a60e-1cf1256e331f err=\"failed to start tunnel: session closed\"\n"
          ]
        }
      ]
    }
  ]
}
